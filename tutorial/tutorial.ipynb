{
 "cells": [
  {
   "cell_type": "markdown",
   "metadata": {},
   "source": [
    "<h1 align=\"center\"> Tutorial: Implementing Semiring-based Layer-wise Relevance Propagation</h1>\n",
    "\n",
    "This tutorial showcases a simple implementation mechanism for Semiring-based LRP. \n",
    "More information can be found in the report [\"Extending Layer-wise Relevance Propagation with Semiring Annotation\"](https://github.com/Red-Rapious/Semiring-LRP/blob/main/report/report.pdf).\n",
    "\n",
    "We will provide an implementation for two models:\n",
    "- a simple multilayer perceptron (MLP) trained on the MNIST dataset (containing `Linear` and `ReLU` layers)\n",
    "- the VGG-16 network trained on ImageNet (containing `Conv2d`, `MaxPool2d`, `Linear` and `ReLU` layers)\n",
    "Both models will be trained/loaded with `PyTorch`, and the Semiring LRP will be computed using `NumPy`\n",
    "\n",
    "All the code used for the writing of the report is available [on GitHub](https://github.com/Red-Rapious/Semiring-LRP/blob/main/code); note that the implementation presented here might differ slightly for explanation purposes."
   ]
  },
  {
   "cell_type": "markdown",
   "metadata": {},
   "source": [
    "## 1. MLP on the MNIST dataset\n",
    "### 1.1 Training the model"
   ]
  },
  {
   "cell_type": "markdown",
   "metadata": {},
   "source": [
    "We start by importing the multiple libraries that will be used."
   ]
  },
  {
   "cell_type": "code",
   "execution_count": 1,
   "metadata": {},
   "outputs": [],
   "source": [
    "# PyTorch for model loading and training\n",
    "import torch\n",
    "from torch import nn\n",
    "from torch.utils.data import DataLoader\n",
    "\n",
    "from torchvision import datasets\n",
    "from torchvision.transforms import ToTensor\n",
    "\n",
    "# NumPy to compute Semiring LRP\n",
    "import numpy as np\n",
    "\n",
    "# Matplotlib for visualization\n",
    "import matplotlib.pyplot as plt\n",
    "from matplotlib.colors import ListedColormap"
   ]
  },
  {
   "cell_type": "markdown",
   "metadata": {},
   "source": [
    "We then load the MNIST dataset used to train our model. The MNIST dataset consists in $28\\times28$ grayscale images of handwritten digits, corresponding to 10 different classes (digits 0 to 9)."
   ]
  },
  {
   "cell_type": "code",
   "execution_count": 2,
   "metadata": {},
   "outputs": [],
   "source": [
    "# Load MNIST dataset\n",
    "\n",
    "train = datasets.MNIST(\n",
    "    root=\"data\",\n",
    "    train=True,\n",
    "    download=True,\n",
    "    transform=ToTensor(),\n",
    "    target_transform=None\n",
    ")\n",
    "\n",
    "test = datasets.MNIST(\n",
    "    root=\"data\",\n",
    "    train=False,\n",
    "    download=True,\n",
    "    transform=ToTensor(),\n",
    ")\n",
    "\n",
    "# Prepare batches of data for training and testing\n",
    "\n",
    "BATCH_SIZE = 32\n",
    "\n",
    "train_dataloader = DataLoader(\n",
    "    train,\n",
    "    batch_size=BATCH_SIZE,\n",
    "    shuffle=True\n",
    ")\n",
    "\n",
    "test_dataloader = DataLoader(\n",
    "    test,\n",
    "    batch_size=BATCH_SIZE,\n",
    "    shuffle=False\n",
    ")"
   ]
  },
  {
   "cell_type": "markdown",
   "metadata": {},
   "source": [
    "We can plot a training example to visualize the data that we're handling:"
   ]
  },
  {
   "cell_type": "code",
   "execution_count": 3,
   "metadata": {},
   "outputs": [
    {
     "data": {
      "image/png": "[encoded data removed]",
      "text/plain": [
       "<Figure size 640x480 with 1 Axes>"
      ]
     },
     "metadata": {},
     "output_type": "display_data"
    }
   ],
   "source": [
    "plt.imshow(train[0][0][0].detach().numpy(), cmap=\"gray\")\n",
    "plt.title(f\"Label = {train[0][1]}\")\n",
    "plt.show()"
   ]
  },
  {
   "cell_type": "markdown",
   "metadata": {},
   "source": [
    "We can start building and training our MLP using `PyTorch`."
   ]
  },
  {
   "cell_type": "code",
   "execution_count": 4,
   "metadata": {},
   "outputs": [
    {
     "name": "stdout",
     "output_type": "stream",
     "text": [
      "Using device: mps\n"
     ]
    }
   ],
   "source": [
    "# Select the best device to use, preferably GPU\n",
    "\n",
    "if torch.backends.mps.is_available() and torch.backends.mps.is_built():\n",
    "    device = torch.device('mps')\n",
    "elif torch.cuda.is_available():\n",
    "    device = torch.device('cuda')\n",
    "else:\n",
    "    device = torch.device('cpu')\n",
    "\n",
    "print(f'Using device: {device}')"
   ]
  },
  {
   "cell_type": "code",
   "execution_count": 5,
   "metadata": {},
   "outputs": [],
   "source": [
    "# Compute the accuracy given labels and predictions\n",
    "def accuracy_fn(y_true, y_pred):\n",
    "    correct = torch.eq(y_true, y_pred).sum().item()\n",
    "    return correct / len(y_pred) * 100\n",
    "\n",
    "# Utility function to train the model\n",
    "def train_model(model, optimizer, loss_fn):\n",
    "    torch.manual_seed(42)\n",
    "    epochs = 2\n",
    "\n",
    "    for epoch in range(epochs):\n",
    "        print(f\"[EPOCH {epoch+1}/{epochs}] \", end=\"\")\n",
    "        train_loss = 0\n",
    "\n",
    "        for batch, (X, y) in enumerate(train_dataloader):\n",
    "            X, y = X.to(device), y.to(device)\n",
    "            model.train()\n",
    "\n",
    "            y_pred = model(X)\n",
    "\n",
    "            loss = loss_fn(y_pred, y)\n",
    "            train_loss += loss\n",
    "\n",
    "            optimizer.zero_grad()\n",
    "\n",
    "            loss.backward()\n",
    "\n",
    "            optimizer.step()\n",
    "\n",
    "        train_loss /= len(train_dataloader)\n",
    "\n",
    "        test_loss, test_acc = 0, 0\n",
    "        model.eval()\n",
    "        with torch.inference_mode():\n",
    "            for X, y in test_dataloader:\n",
    "                X, y = X.to(device), y.to(device)\n",
    "                test_pred = model(X)\n",
    "\n",
    "                test_loss += loss_fn(test_pred, y)\n",
    "                test_acc += accuracy_fn(y, test_pred.argmax (dim=1))\n",
    "\n",
    "            test_loss /= len(test_dataloader)\n",
    "            test_acc /= len(test_dataloader)\n",
    "\n",
    "        print(f\"Train loss: {train_loss:.5f} | Test loss: {test_loss:.5f}, Test acc: {test_acc:.2f}%\")"
   ]
  },
  {
   "cell_type": "markdown",
   "metadata": {},
   "source": [
    "The model that we choose must have an input layer of size $28\\times28$, and an output layer of size $10$ (one for each class). We add two hidden layers of sizes $300$ and $100$."
   ]
  },
  {
   "cell_type": "code",
   "execution_count": 6,
   "metadata": {},
   "outputs": [
    {
     "name": "stdout",
     "output_type": "stream",
     "text": [
      "[EPOCH 1/2] Train loss: 0.35308 | Test loss: 0.14387, Test acc: 95.60%\n",
      "[EPOCH 2/2] Train loss: 0.12239 | Test loss: 0.09439, Test acc: 96.93%\n"
     ]
    }
   ],
   "source": [
    "# Architecture of the model\n",
    "inputs = 784\n",
    "hidden1 = 300\n",
    "hidden2 = 100\n",
    "outputs = 10\n",
    "\n",
    "assert(outputs == len(train.classes))\n",
    "\n",
    "# Build the PyTorch model\n",
    "model = nn.Sequential(\n",
    "    nn.Flatten(),\n",
    "    nn.ReLU(),\n",
    "    nn.Linear(inputs, hidden1),\n",
    "    nn.ReLU(),\n",
    "    nn.Linear(hidden1, hidden2),\n",
    "    nn.ReLU(),\n",
    "    nn.Linear(hidden2, outputs)\n",
    ").to(device)\n",
    "\n",
    "loss_fn = nn.CrossEntropyLoss()\n",
    "optimizer = torch.optim.SGD(params=model.parameters(), lr=0.1)\n",
    "\n",
    "# Training (might take some time depending on the hardware)\n",
    "train_model(model, optimizer, loss_fn)"
   ]
  },
  {
   "cell_type": "markdown",
   "metadata": {},
   "source": [
    "The model should perform relatively well (usually around 95% in just 2 epochs). We can start implementing Semiring-LRP to explain the decisions of this classifier."
   ]
  },
  {
   "cell_type": "markdown",
   "metadata": {},
   "source": [
    "### 1.2 Extracting parameters\n",
    "We extract parameters of the model to be able to analyze it ourselves."
   ]
  },
  {
   "cell_type": "code",
   "execution_count": 7,
   "metadata": {},
   "outputs": [],
   "source": [
    "### Extract weights and biases of trained MLP\n",
    "\n",
    "# we only extract Linear layers\n",
    "layers = list(filter(None, [layer if isinstance(layer, nn.Linear) else None for layer in model.children()]))\n",
    "# we convert weights and biases into NumPy arrays\n",
    "W = [layer.weight.to('cpu').detach().numpy().T for layer in layers]\n",
    "B = [layer.bias.to('cpu').detach().numpy().T for layer in layers]\n",
    "L = len(W)"
   ]
  },
  {
   "cell_type": "code",
   "execution_count": 8,
   "metadata": {},
   "outputs": [],
   "source": [
    "### Extract input images and labels and convert it into NumPy arrays\n",
    "\n",
    "SUBSET = 20 # we will explain 20 images from the training set\n",
    "\n",
    "X = train.data.reshape((60000, 784)).detach().numpy()[:SUBSET]\n",
    "T = train.targets.detach().numpy()[:SUBSET]"
   ]
  },
  {
   "cell_type": "code",
   "execution_count": 9,
   "metadata": {},
   "outputs": [],
   "source": [
    "### We start by the forward pass\n",
    "A = [X] + [None] * L # A will store the activations of each layers\n",
    "for l in range(L):\n",
    "    A[l+1] = np.maximum(0, A[l].dot(W[l])+B[l])"
   ]
  },
  {
   "cell_type": "markdown",
   "metadata": {},
   "source": [
    "### 1.3 Implementing the Semiring logic\n",
    "So far, the approach was similar to classical LRP. We will now implement a semiring class to annotate our weights. \n",
    "\n",
    "For this demonstration, we will implement the boolean semiring:\n",
    "$$(\\{\\bot, \\top\\}, \\lor, \\land, \\bot, \\top)$$\n",
    "Conversion function $\\Theta$ is threshold-based, that is:\n",
    "$$\n",
    "\\Theta^{(l)}(x) = \\begin{cases}\n",
    "    \\top & \\textnormal{if} \\quad x\\geq\\theta^{(l)} \\\\\n",
    "    \\bot & \\textnormal{otherwise}\n",
    "\\end{cases}\n",
    "$$\n",
    "where $\\theta$ is some hand-picked threshold, by default `1e-9` in the code.\n",
    "\n",
    "Feel free to implement your own `Semiring` class by choosing the operations you want!"
   ]
  },
  {
   "cell_type": "code",
   "execution_count": 10,
   "metadata": {},
   "outputs": [],
   "source": [
    "class BooleanSemiring:\n",
    "    # __init__ converts a float to a Semiring element\n",
    "    # this corresponds to the $\\Theta$ function\n",
    "    def __init__(self, x):\n",
    "        self.value = True if x >= 1e-9 else False\n",
    "\n",
    "    def __add__(self, b):\n",
    "        return BooleanSemiring(self.value or b.value)\n",
    "\n",
    "    def __mul__(self, b):\n",
    "        return BooleanSemiring(self.value and b.value)\n",
    "    \n",
    "    def zero():\n",
    "        return BooleanSemiring(0)\n",
    "    \n",
    "    def one():\n",
    "        return BooleanSemiring(1)\n",
    "\n",
    "    # utility function used for visualization\n",
    "    def to_float(self):\n",
    "        return 1 if self.value else 0\n",
    "    \n",
    "# we vectorize a few operations to be used later\n",
    "# these are independent from the chosen semiring\n",
    "initialize = np.vectorize(lambda x: BooleanSemiring.one() if x > 0 else BooleanSemiring.zero())\n",
    "annotate = np.vectorize(lambda x: BooleanSemiring(x))\n",
    "to_float = np.vectorize(lambda x: x.to_float())"
   ]
  },
  {
   "cell_type": "code",
   "execution_count": 11,
   "metadata": {},
   "outputs": [],
   "source": [
    "# Initialize relevance R by filling the ouput vector with zeros and one (the semiring elements)\n",
    "R = [None] * L + [initialize(A[L] * (T[:,None]==np.arange(10)))]\n",
    "\n",
    "# Functions used to encapsulate LRP-0, LRP-epsilon, LRP-gamma rules\n",
    "# The same functions are used for original LRP\n",
    "def rho(w, l):  return w\n",
    "def incr(w, l): return w\n",
    "\n",
    "# All layers, even the pixels one\n",
    "for l in range(0, L)[::-1]:\n",
    "    # classical LRP part\n",
    "    w = rho(W[l], l)\n",
    "    b = rho(B[l], l)\n",
    "    z = incr(A[l].dot(w)+b, l)\n",
    "\n",
    "    # compute the coefficients in the sum\n",
    "    d = np.array([(A[l][image] * w.T).T/z[image] for image in range(SUBSET)])\n",
    "    # annotate the weights: convert the coefficients into semiring elements\n",
    "    d = annotate(d)\n",
    "\n",
    "    # compute the sum\n",
    "    R[l] = np.array([d[image] @ R[l+1][image] for image in range(SUBSET)])\n",
    "\n",
    "# convert semiring elements back to floats for visualization\n",
    "R_floats = [to_float(x) for x in R]"
   ]
  },
  {
   "cell_type": "code",
   "execution_count": 12,
   "metadata": {},
   "outputs": [
    {
     "data": {
      "image/png": "[encoded data removed]",
      "text/plain": [
       "<Figure size 640x480 with 2 Axes>"
      ]
     },
     "metadata": {},
     "output_type": "display_data"
    },
    {
     "data": {
      "image/png": "[encoded data removed]",
      "text/plain": [
       "<Figure size 640x480 with 2 Axes>"
      ]
     },
     "metadata": {},
     "output_type": "display_data"
    },
    {
     "data": {
      "image/png": "[encoded data removed]",
      "text/plain": [
       "<Figure size 640x480 with 2 Axes>"
      ]
     },
     "metadata": {},
     "output_type": "display_data"
    }
   ],
   "source": [
    "DIGITS = 3 # increase here to display more digit classes\n",
    "for i in range(DIGITS):\n",
    "    image = R_floats[0][T==i][0].reshape((28, 28))\n",
    "\n",
    "    fig, axs = plt.subplots(1, 2)\n",
    "    for j in range(2):\n",
    "        axs[j].set_xticks([]); axs[j].set_yticks([])\n",
    "\n",
    "    axs[0].imshow(X[T==i][0].reshape((28, 28)), cmap=\"gray\")\n",
    "    axs[0].set_title(\"Reference\")\n",
    "\n",
    "    axs[1].imshow(image, cmap=\"gray\", vmin=0, vmax=1)\n",
    "    axs[1].set_title(\"Boolean Semiring\")\n",
    "\n",
    "    plt.show()"
   ]
  }
 ],
 "metadata": {
  "kernelspec": {
   "display_name": "Python 3",
   "language": "python",
   "name": "python3"
  },
  "language_info": {
   "codemirror_mode": {
    "name": "ipython",
    "version": 3
   },
   "file_extension": ".py",
   "mimetype": "text/x-python",
   "name": "python",
   "nbconvert_exporter": "python",
   "pygments_lexer": "ipython3",
   "version": "3.11.7"
  }
 },
 "nbformat": 4,
 "nbformat_minor": 2
}
