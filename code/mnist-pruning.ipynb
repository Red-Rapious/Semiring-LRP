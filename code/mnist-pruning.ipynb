{
 "cells": [
  {
   "cell_type": "markdown",
   "metadata": {},
   "source": [
    "# Layer-wise Relevance Propagation using Abstract Semiring elements for the MNIST Dataset"
   ]
  },
  {
   "cell_type": "code",
   "execution_count": 1,
   "metadata": {},
   "outputs": [],
   "source": [
    "import torch\n",
    "from torch import nn\n",
    "from torch.utils.data import DataLoader\n",
    "\n",
    "from torchvision import datasets\n",
    "from torchvision.transforms import ToTensor\n",
    "\n",
    "import numpy as np\n",
    "\n",
    "import matplotlib.pyplot as plt\n",
    "from matplotlib.colors import ListedColormap\n",
    "\n",
    "import ProvLRP\n",
    "import ProvLRP_config\n",
    "from importlib import reload\n",
    "reload(ProvLRP)\n",
    "\n",
    "import copy\n",
    "import torch.nn.utils.prune as prune\n",
    "import torch.nn.functional as F"
   ]
  },
  {
   "cell_type": "markdown",
   "metadata": {},
   "source": [
    "## 0. Load dataset"
   ]
  },
  {
   "cell_type": "code",
   "execution_count": 2,
   "metadata": {},
   "outputs": [],
   "source": [
    "# Load dataset\n",
    "\n",
    "train = datasets.MNIST(\n",
    "    root=\"data\",\n",
    "    train=True,\n",
    "    download=True,\n",
    "    transform=ToTensor(),\n",
    "    target_transform=None\n",
    ")\n",
    "\n",
    "test = datasets.MNIST(\n",
    "    root=\"data\",\n",
    "    train=False,\n",
    "    download=True,\n",
    "    transform=ToTensor(),\n",
    ")"
   ]
  },
  {
   "cell_type": "code",
   "execution_count": 3,
   "metadata": {},
   "outputs": [],
   "source": [
    "BATCH_SIZE = 32\n",
    "\n",
    "train_dataloader = DataLoader(\n",
    "    train,\n",
    "    batch_size=BATCH_SIZE,\n",
    "    shuffle=True\n",
    ")\n",
    "\n",
    "test_dataloader = DataLoader(\n",
    "    test,\n",
    "    batch_size=BATCH_SIZE,\n",
    "    shuffle=False\n",
    ")"
   ]
  },
  {
   "cell_type": "markdown",
   "metadata": {},
   "source": [
    "## 1. Train simple model"
   ]
  },
  {
   "cell_type": "code",
   "execution_count": 4,
   "metadata": {},
   "outputs": [
    {
     "name": "stdout",
     "output_type": "stream",
     "text": [
      "Using device: mps\n"
     ]
    }
   ],
   "source": [
    "# Select the best device to use\n",
    "\n",
    "if torch.backends.mps.is_available() and torch.backends.mps.is_built():\n",
    "    device = torch.device('mps')\n",
    "elif torch.cuda.is_available():\n",
    "    device = torch.device('cuda')\n",
    "else:\n",
    "    device = torch.device('cpu')\n",
    "\n",
    "print(f'Using device: {device}')"
   ]
  },
  {
   "cell_type": "code",
   "execution_count": 5,
   "metadata": {},
   "outputs": [],
   "source": [
    "def accuracy_fn(y_true, y_pred):\n",
    "    correct = torch.eq(y_true, y_pred).sum().item()\n",
    "    return correct / len(y_pred) * 100"
   ]
  },
  {
   "cell_type": "code",
   "execution_count": 6,
   "metadata": {},
   "outputs": [],
   "source": [
    "def train_model(model, optimizer, loss_fn):\n",
    "    epochs = 1#3\n",
    "\n",
    "    for epoch in range(epochs):\n",
    "        print(f\"[EPOCH {epoch+1}/{epochs}] \", end=\"\")\n",
    "        train_loss = 0\n",
    "\n",
    "        for batch, (X, y) in enumerate(train_dataloader):\n",
    "            X, y = X.to(device), y.to(device)\n",
    "            model.train()\n",
    "\n",
    "            y_pred = model(X)\n",
    "\n",
    "            loss = loss_fn(y_pred, y)\n",
    "            train_loss += loss\n",
    "\n",
    "            optimizer.zero_grad()\n",
    "\n",
    "            loss.backward()\n",
    "\n",
    "            optimizer.step()\n",
    "\n",
    "        train_loss /= len(train_dataloader)\n",
    "\n",
    "        test_loss, test_acc = 0, 0\n",
    "        model.eval()\n",
    "        with torch.inference_mode():\n",
    "            for X, y in test_dataloader:\n",
    "                X, y = X.to(device), y.to(device)\n",
    "                test_pred = model(X)\n",
    "\n",
    "                test_loss += loss_fn(test_pred, y)\n",
    "                test_acc += accuracy_fn(y, test_pred.argmax (dim=1))\n",
    "\n",
    "            test_loss /= len(test_dataloader)\n",
    "            test_acc /= len(test_dataloader)\n",
    "\n",
    "        print(f\"Train loss: {train_loss:.5f} | Test loss: {test_loss:.5f}, Test acc: {test_acc:.2f}%\")"
   ]
  },
  {
   "cell_type": "code",
   "execution_count": 7,
   "metadata": {},
   "outputs": [],
   "source": [
    "# Build the model\n",
    "inputs = 784\n",
    "hidden1 = 300\n",
    "hidden2 = 100\n",
    "outputs = 10\n",
    "\n",
    "assert(outputs == len(train.classes))\n",
    "\n",
    "og_model = nn.Sequential(\n",
    "    nn.Flatten(),\n",
    "    nn.Linear(inputs, hidden1),\n",
    "    nn.ReLU(),\n",
    "    nn.Linear(hidden1, hidden2),\n",
    "    nn.ReLU(),\n",
    "    nn.Linear(hidden2, outputs)\n",
    ").to(device)\n",
    "\n",
    "loss_fn = nn.CrossEntropyLoss()\n",
    "optimizer = torch.optim.SGD(params=og_model.parameters(), lr=0.1)"
   ]
  },
  {
   "cell_type": "code",
   "execution_count": 8,
   "metadata": {},
   "outputs": [
    {
     "name": "stdout",
     "output_type": "stream",
     "text": [
      "[EPOCH 1/1] Train loss: 0.35518 | Test loss: 0.13888, Test acc: 95.77%\n"
     ]
    }
   ],
   "source": [
    "train_model(og_model, optimizer, loss_fn)"
   ]
  },
  {
   "cell_type": "markdown",
   "metadata": {},
   "source": [
    "## 2. Network pruning"
   ]
  },
  {
   "cell_type": "markdown",
   "metadata": {},
   "source": [
    "### 2.1 LRP"
   ]
  },
  {
   "cell_type": "code",
   "execution_count": 9,
   "metadata": {},
   "outputs": [],
   "source": [
    "# Extract weights and biases of trained MLP\n",
    "layers = list(filter(None, [layer if isinstance(layer, nn.Linear) else None for layer in og_model.children()]))\n",
    "W = [layer.weight.to('cpu').detach().numpy().T for layer in layers]\n",
    "B = [layer.bias.to('cpu').detach().numpy().T for layer in layers]\n",
    "L = len(W)\n",
    "\n",
    "X = train.data.reshape((60000, 784)).detach().numpy()\n",
    "T = train.targets.detach().numpy()\n",
    "\n",
    "# Forward pass\n",
    "A = [X] + [None] * L\n",
    "for l in range(L):\n",
    "    A[l+1] = np.maximum(0, A[l].dot(W[l])+B[l])\n",
    "\n",
    "nb_digits = len(train.classes)"
   ]
  },
  {
   "cell_type": "code",
   "execution_count": 10,
   "metadata": {},
   "outputs": [],
   "source": [
    "R = [None] * L + [A[L] * (T[:,None]==np.arange(nb_digits))]\n",
    "\n",
    "def rho(w,l):  return w + [None,0.1,0.0,0.0][l] * np.maximum(0,w)\n",
    "def incr(z,l): return z + [None,0.0,0.1,0.0][l] * (z**2).mean()**.5+1e-9"
   ]
  },
  {
   "cell_type": "code",
   "execution_count": 11,
   "metadata": {},
   "outputs": [],
   "source": [
    "# All layers except the pixels one\n",
    "for l in range(1, L)[::-1]:\n",
    "    w = rho(W[l], l)\n",
    "    b = rho(B[l], l)\n",
    "\n",
    "    z = incr(A[l].dot(w)+b, l)\n",
    "    s = R[l+1] / z\n",
    "    c = s.dot(w.T)\n",
    "    R[l] = A[l] * c"
   ]
  },
  {
   "cell_type": "code",
   "execution_count": 12,
   "metadata": {},
   "outputs": [],
   "source": [
    "w = W[0]\n",
    "wp = np.maximum(0, w)\n",
    "wm = np.minimum(0, w)\n",
    "lb = A[0]*0.-1\n",
    "hb = A[0]*0.+1\n",
    "\n",
    "z = A[0].dot(w)-lb.dot(wp)-hb.dot(wm)+1e-9\n",
    "s = R[1]/z\n",
    "c, cp, cm = s.dot(w.T), s.dot(wp.T), s.dot(wm.T)\n",
    "R[0] = A[0]*c - lb*cp - hb*cm"
   ]
  },
  {
   "cell_type": "code",
   "execution_count": 13,
   "metadata": {},
   "outputs": [],
   "source": [
    "mean = np.mean(np.abs(R[0]), axis=0).reshape(28,28)"
   ]
  },
  {
   "cell_type": "code",
   "execution_count": 14,
   "metadata": {},
   "outputs": [
    {
     "data": {
      "text/plain": [
       "<matplotlib.image.AxesImage at 0x17ec921d0>"
      ]
     },
     "execution_count": 14,
     "metadata": {},
     "output_type": "execute_result"
    },
    {
     "data": {
      "image/png": "[encoded data removed]",
      "text/plain": [
       "<Figure size 640x480 with 1 Axes>"
      ]
     },
     "metadata": {},
     "output_type": "display_data"
    }
   ],
   "source": [
    "plt.imshow(mean)"
   ]
  },
  {
   "cell_type": "code",
   "execution_count": 15,
   "metadata": {},
   "outputs": [],
   "source": [
    "class LRPPruningMethod(prune.BasePruningMethod):\n",
    "    PRUNING_TYPE = 'structured'\n",
    "\n",
    "    def __init__(self, amount, dim=-1, relevance=None):\n",
    "        # Check range of validity of amount\n",
    "        prune._validate_pruning_amount_init(amount)\n",
    "        self.amount = amount\n",
    "        self.dim = dim\n",
    "        self.relevance = relevance\n",
    "\n",
    "    def compute_mask(self, t, default_mask):\n",
    "        prune._validate_structured_pruning(t)\n",
    "        prune._validate_pruning_dim(t, self.dim)\n",
    "\n",
    "        tensor_size = t.shape[self.dim]\n",
    "        nparams_toprune = prune._compute_nparams_toprune(self.amount, tensor_size)\n",
    "        nparams_tokeep = tensor_size - nparams_toprune\n",
    "        prune._validate_pruning_amount(nparams_toprune, tensor_size)\n",
    "\n",
    "        # lrp = np.abs(self.relevance)\n",
    "        # lrp = torch.tensor(np.mean(self.relevance, axis=self.dim))\n",
    "        lrp = torch.tensor(self.relevance)\n",
    "        # lrp = torch.abs(lrp)\n",
    "        topk = torch.topk(lrp, k=nparams_tokeep, largest=True)\n",
    "\n",
    "        # mask = torch.ones_like(t)\n",
    "        # slc = [slice(None)] * len(t.shape)\n",
    "        # slc[self.dim] = topk.indices\n",
    "        # mask[slc] = 0\n",
    "        # print(len(topk.indices), len(lrp), tensor_size)\n",
    "        # for i in range(len(lrp)):\n",
    "        #     if i not in topk.indices:\n",
    "        #         lrp[i] = float(\"inf\")\n",
    "\n",
    "        # _, axs = plt.subplots()\n",
    "        # axs.imshow(lrp.reshape(28, 28))\n",
    "        # axs.set_title(f\"Pruning of {self.amount} node(s)\")\n",
    "        # plt.show()\n",
    "\n",
    "        mask = torch.zeros_like(t)\n",
    "        slc = [slice(None)] * len(t.shape)\n",
    "        slc[self.dim] = topk.indices\n",
    "        mask[slc] = 1\n",
    "        mask *= default_mask.to(dtype=mask.dtype)\n",
    "\n",
    "        return mask\n",
    "\n",
    "def lrp_structured(module, name, amount, dim, relevance=None):\n",
    "    LRPPruningMethod.apply(\n",
    "        module, name, amount, dim, relevance=relevance,\n",
    "    )\n",
    "    return module"
   ]
  },
  {
   "cell_type": "markdown",
   "metadata": {},
   "source": [
    "#### Counting LRP"
   ]
  },
  {
   "cell_type": "code",
   "execution_count": 16,
   "metadata": {},
   "outputs": [],
   "source": [
    "SUBSET = 500\n",
    "\n",
    "X = train.data.reshape((60000, 784)).detach().numpy()\n",
    "X = X[:SUBSET]\n",
    "T = train.targets.detach().numpy()\n",
    "T = T[:SUBSET]"
   ]
  },
  {
   "cell_type": "code",
   "execution_count": 17,
   "metadata": {},
   "outputs": [],
   "source": [
    "def rho(w, l):  return w"
   ]
  },
  {
   "cell_type": "code",
   "execution_count": 18,
   "metadata": {},
   "outputs": [],
   "source": [
    "reload(ProvLRP)\n",
    "reload(ProvLRP_config)\n",
    "semiring = ProvLRP.CountingSemiring\n",
    "\n",
    "ProvLRP_config.counting_relevance_threshold = 0.5\n",
    "ProvLRP_config.counting_activation_threshold = 0.1\n",
    "ProvLRP_config.counting_weight_threshold = 0\n",
    "\n",
    "# Forward pass\n",
    "A = [X] + [None] * L\n",
    "for l in range(L):\n",
    "    A[l+1] = np.maximum(0, A[l].dot(W[l])+B[l])\n",
    "\n",
    "nb_digits = len(train.classes)\n",
    "\n",
    "R_count = [None] * L + [semiring.from_relevance(A[L] * (T[:,None]==np.arange(nb_digits)))]\n",
    "\n",
    "# All layers, even the pixels one\n",
    "for l in range(0, L)[::-1]:\n",
    "    w = rho(semiring.from_weight(W[l]), l)\n",
    "\n",
    "    s = R_count[l+1]\n",
    "    c = s.dot(w.T)\n",
    "    R_count[l] = semiring.from_activation(A[l]) * c"
   ]
  },
  {
   "cell_type": "code",
   "execution_count": 19,
   "metadata": {},
   "outputs": [],
   "source": [
    "R_count = [semiring.semiring_to_float(x) for x in R_count]"
   ]
  },
  {
   "cell_type": "markdown",
   "metadata": {},
   "source": [
    "#### Boolean LRP"
   ]
  },
  {
   "cell_type": "code",
   "execution_count": 20,
   "metadata": {},
   "outputs": [],
   "source": [
    "reload(ProvLRP)\n",
    "reload(ProvLRP_config)\n",
    "semiring = ProvLRP.BooleanSemiring\n",
    "\n",
    "ProvLRP_config.boolean_relevance_threshold = 0.5\n",
    "ProvLRP_config.boolean_activation_threshold = 0.1\n",
    "ProvLRP_config.boolean_weight_threshold = 0\n",
    "\n",
    "# Forward pass\n",
    "A = [X] + [None] * L\n",
    "for l in range(L):\n",
    "    A[l+1] = np.maximum(0, A[l].dot(W[l])+B[l])\n",
    "\n",
    "nb_digits = len(train.classes)\n",
    "\n",
    "R_bool = [None] * L + [semiring.from_relevance(A[L] * (T[:,None]==np.arange(nb_digits)))]\n",
    "\n",
    "# All layers, even the pixels one\n",
    "for l in range(0, L)[::-1]:\n",
    "    w = rho(semiring.from_weight(W[l]), l)\n",
    "\n",
    "    s = R_bool[l+1]\n",
    "    c = s.dot(w.T)\n",
    "    R_bool[l] = semiring.from_activation(A[l]) * c"
   ]
  },
  {
   "cell_type": "code",
   "execution_count": 21,
   "metadata": {},
   "outputs": [],
   "source": [
    "R_bool = [semiring.semiring_to_float(x) for x in R_bool]"
   ]
  },
  {
   "cell_type": "markdown",
   "metadata": {},
   "source": [
    "#### Viterbi LRP"
   ]
  },
  {
   "cell_type": "code",
   "execution_count": 22,
   "metadata": {},
   "outputs": [],
   "source": [
    "R_vit = [None] * L + [A[L] * (T[:,None]==np.arange(nb_digits))]\n",
    "\n",
    "# All layers even the pixels one\n",
    "for l in range(0, L)[::-1]:\n",
    "    R_vit[l] = np.zeros((SUBSET,A[l].shape[1]))\n",
    "    Z = np.zeros((R_vit[l].shape[1], R_vit[l+1].shape[1], SUBSET))\n",
    "\n",
    "    for j in range(R_vit[l].shape[1]):\n",
    "        for k in range(R_vit[l+1].shape[1]):\n",
    "            Z[j][k] = (A[l][:,j] * W[l][j,k] + B[l][k]) * W[l][j,k]\n",
    "\n",
    "    sums = np.sum(Z, axis=0)\n",
    "\n",
    "    for j in range(R_vit[l].shape[1]):\n",
    "        s = []\n",
    "        for k in range(R_vit[l+1].shape[1]):\n",
    "            s.append(Z[j][k]/sums[k] * R_vit[l+1][:,k])\n",
    "        R_vit[l][:,j] = np.max(s, axis=0)"
   ]
  },
  {
   "cell_type": "markdown",
   "metadata": {},
   "source": [
    "### 2.3 Pruning"
   ]
  },
  {
   "cell_type": "code",
   "execution_count": 23,
   "metadata": {},
   "outputs": [],
   "source": [
    "def eval_model(m, print=False):\n",
    "    test_loss, test_acc = 0, 0\n",
    "    m.eval()\n",
    "    with torch.inference_mode():\n",
    "        for x, y in test_dataloader:\n",
    "            x, y = x.to(device), y.to(device)\n",
    "            test_pred = m(x)\n",
    "\n",
    "            test_loss += loss_fn(test_pred, y)\n",
    "            test_acc += accuracy_fn(y, test_pred.argmax (dim=1))\n",
    "\n",
    "        test_loss /= len(test_dataloader)\n",
    "        test_acc /= len(test_dataloader)\n",
    "\n",
    "    if print:\n",
    "        print(f\"Test loss: {test_loss:.3f} | Test accuracy: {test_acc:.2f}%\")\n",
    "    return test_loss, test_acc"
   ]
  },
  {
   "cell_type": "code",
   "execution_count": 27,
   "metadata": {},
   "outputs": [
    {
     "data": {
      "image/png": "[encoded data removed]",
      "text/plain": [
       "<Figure size 640x480 with 2 Axes>"
      ]
     },
     "metadata": {},
     "output_type": "display_data"
    }
   ],
   "source": [
    "fig, axs = plt.subplots(1, 2)\n",
    "fig.tight_layout()\n",
    "\n",
    "STEP = 4\n",
    "DIM = 0\n",
    "x = np.array(list(range(1, 300, STEP)))\n",
    "\n",
    "LRPs = [(R_vit, \"Viertbi\")]#, (R_bool, \"Boolean\"), (R_count, \"counting\"), (R, \"Classic\")]\n",
    "\n",
    "\n",
    "### -- LRP-based pruning --\n",
    "for (relevance, label_name) in LRPs:\n",
    "   model = copy.deepcopy(og_model)\n",
    "   linear1 = list(model.modules())[2]\n",
    "   linear2 = list(model.modules())[4]\n",
    "\n",
    "   s = 0\n",
    "   # losses, accuracies = eval_model(model)\n",
    "   losses, accuracies = [], []\n",
    "   for i in x:\n",
    "      lrp_structured(linear1, name=\"weight\", amount=i, relevance=np.mean(np.abs(relevance[1-DIM]), axis=0), dim=DIM)\n",
    "      #lrp_structured(linear2, name=\"weight\", amount=i, relevance=R[1], dim=DIM)\n",
    "      \n",
    "      prune.remove(linear1, name=\"weight\")\n",
    "      #prune.remove(linear2, name=\"weight\")\n",
    "      test_loss, test_acc = eval_model(model)\n",
    "      losses.append(test_loss)\n",
    "      accuracies.append(test_acc)\n",
    "\n",
    "   losses = [l.cpu() for l in losses]\n",
    "   accuracies = [a for a in accuracies]\n",
    "\n",
    "   axs[0].plot(x/linear1.weight.shape[DIM]*100, losses, label=label_name+\" LRP\")\n",
    "   axs[1].plot(x/linear1.weight.shape[DIM]*100, accuracies, label=label_name+\" LRP\")\n",
    "\n",
    "# ### -- Boolean LRP pruning --\n",
    "# model = copy.deepcopy(og_model)\n",
    "# linear1 = list(model.modules())[2]\n",
    "# linear2 = list(model.modules())[4]\n",
    "\n",
    "# s = 0\n",
    "# # losses, accuracies = eval_model(model)\n",
    "# losses, accuracies = [], []\n",
    "# for i in x:\n",
    "#    lrp_structured(linear1, name=\"weight\", amount=i, relevance=np.mean(np.abs(R_bool[1-DIM]), axis=0), dim=DIM)\n",
    "#    #lrp_structured(linear2, name=\"weight\", amount=i, relevance=R[1], dim=DIM)\n",
    "   \n",
    "# #    mask = list(linear1.named_buffers())[0][1]\n",
    "# #    plt.imshow(mask.cpu(), cmap=\"gray\")\n",
    "# #    plt.show()\n",
    "   \n",
    "#    prune.remove(linear1, name=\"weight\")\n",
    "#    #prune.remove(linear2, name=\"weight\")\n",
    "#    test_loss, test_acc = eval_model(model)\n",
    "#    losses.append(test_loss)\n",
    "#    accuracies.append(test_acc)\n",
    "\n",
    "# losses = [l.cpu() for l in losses]\n",
    "# accuracies = [a for a in accuracies]\n",
    "\n",
    "# axs[0].plot(x/linear1.weight.shape[DIM]*100, losses, label=\"Boolean LRP\")\n",
    "# axs[1].plot(x/linear1.weight.shape[DIM]*100, accuracies, label=\"Boolean LRP\")\n",
    "\n",
    "\n",
    "# ### -- Counting LRP pruning --\n",
    "# model = copy.deepcopy(og_model)\n",
    "# linear1 = list(model.modules())[2]\n",
    "# linear2 = list(model.modules())[4]\n",
    "\n",
    "# s = 0\n",
    "# # losses, accuracies = eval_model(model)\n",
    "# losses, accuracies = [], []\n",
    "# for i in x:\n",
    "#    lrp_structured(linear1, name=\"weight\", amount=i, relevance=np.mean(np.abs(R_count[1-DIM]), axis=0), dim=DIM)\n",
    "#    #lrp_structured(linear2, name=\"weight\", amount=i, relevance=R[1], dim=DIM)\n",
    "   \n",
    "#    prune.remove(linear1, name=\"weight\")\n",
    "#    #prune.remove(linear2, name=\"weight\")\n",
    "#    test_loss, test_acc = eval_model(model)\n",
    "#    losses.append(test_loss)\n",
    "#    accuracies.append(test_acc)\n",
    "\n",
    "# losses = [l.cpu() for l in losses]\n",
    "# accuracies = [a for a in accuracies]\n",
    "\n",
    "# axs[0].plot(x/linear1.weight.shape[DIM]*100, losses, label=\"Counting LRP\")\n",
    "# axs[1].plot(x/linear1.weight.shape[DIM]*100, accuracies, label=\"Counting LRP\")\n",
    "\n",
    "# ### -- LRP pruning --\n",
    "# model = copy.deepcopy(og_model)\n",
    "# linear1 = list(model.modules())[2]\n",
    "# linear2 = list(model.modules())[4]\n",
    "\n",
    "# s = 0\n",
    "# # losses, accuracies = eval_model(model)\n",
    "# losses, accuracies = [], []\n",
    "# for i in x:\n",
    "#    lrp_structured(linear1, name=\"weight\", amount=i, relevance=np.mean(np.abs(R[1-DIM]), axis=0), dim=DIM)\n",
    "#    #lrp_structured(linear2, name=\"weight\", amount=i, relevance=R[1], dim=DIM)\n",
    "   \n",
    "#    prune.remove(linear1, name=\"weight\")\n",
    "#    #prune.remove(linear2, name=\"weight\")\n",
    "#    test_loss, test_acc = eval_model(model)\n",
    "#    losses.append(test_loss)\n",
    "#    accuracies.append(test_acc)\n",
    "\n",
    "# losses = [l.cpu() for l in losses]\n",
    "# accuracies = [a for a in accuracies]\n",
    "\n",
    "# axs[0].plot(x/linear1.weight.shape[DIM]*100, losses, label=\"Classic LRP\")\n",
    "# axs[1].plot(x/linear1.weight.shape[DIM]*100, accuracies, label=\"Classic LRP\")\n",
    "\n",
    "\n",
    "\n",
    "## -- L2 PRUNING --\n",
    "model = copy.deepcopy(og_model)\n",
    "\n",
    "linear1 = list(model.modules())[2]\n",
    "linear2 = list(model.modules())[4]\n",
    "\n",
    "s = 0\n",
    "# losses, accuracies = eval_model(model)\n",
    "losses, accuracies = [], []\n",
    "for i in x:\n",
    "    prune.ln_structured(linear1, name=\"weight\", amount=i, n=2, dim=DIM)\n",
    "    #prune.ln_structured(linear2, name=\"weight\", amount=i, n=2, dim=DIM)\n",
    "\n",
    "    prune.remove(linear1, name=\"weight\")\n",
    "    #prune.remove(linear2, name=\"weight\")\n",
    "    test_loss, test_acc = eval_model(model)\n",
    "    losses.append(test_loss)\n",
    "    accuracies.append(test_acc)\n",
    "\n",
    "\n",
    "losses = [l.cpu() for l in losses]\n",
    "accuracies = [a for a in accuracies]\n",
    "\n",
    "axs[0].plot(x/linear1.weight.shape[DIM]*100, losses, label=\"$\\ell_2$ pruning\")\n",
    "axs[1].plot(x/linear1.weight.shape[DIM]*100, accuracies, label=\"$\\ell_2$ pruning\")\n",
    "\n",
    "# ## -- L1 pruning --\n",
    "# model = copy.deepcopy(og_model)\n",
    "# linear1 = list(model.modules())[2]\n",
    "# linear2 = list(model.modules())[4]\n",
    "\n",
    "# s = 0\n",
    "# # losses, accuracies = eval_model(model)\n",
    "# losses, accuracies = [], []\n",
    "# for i in x:\n",
    "#     prune.ln_structured(linear1, name=\"weight\", amount=i, n=1, dim=DIM)\n",
    "#     #prune.ln_structured(linear2, name=\"weight\", amount=i, n=1, dim=0)\n",
    "#     prune.remove(linear1, name=\"weight\")\n",
    "#     #prune.remove(linear2, name=\"weight\")\n",
    "#     test_loss, test_acc = eval_model(model)\n",
    "#     losses.append(test_loss)\n",
    "#     accuracies.append(test_acc)\n",
    "\n",
    "\n",
    "# losses = [l.cpu() for l in losses]\n",
    "# accuracies = [a for a in accuracies]\n",
    "\n",
    "# axs[0].plot(x, losses, label=\"$\\ell_1$ pruning\")\n",
    "# axs[1].plot(x, accuracies, label=\"$\\ell_1$ pruning\")\n",
    "\n",
    "# ### -- Random pruning --\n",
    "# model = copy.deepcopy(og_model)\n",
    "# linear1 = list(model.modules())[2]\n",
    "# linear2 = list(model.modules())[4]\n",
    "\n",
    "# s = 0\n",
    "# # losses, accuracies = eval_model(model)\n",
    "# losses, accuracies = [], []\n",
    "# for i in x:\n",
    "#     prune.random_structured(linear1, name=\"weight\", amount=STEP, dim=DIM)\n",
    "#     prune.random_structured(linear2, name=\"weight\", amount=STEP, dim=0)\n",
    "#     test_loss, test_acc = eval_model(model)\n",
    "#     losses.append(test_loss)\n",
    "#     accuracies.append(test_acc)\n",
    "\n",
    "# losses = [l.cpu() for l in losses]\n",
    "# accuracies = [a for a in accuracies]\n",
    "\n",
    "# axs[0].plot(x, losses, label=\"Random pruning\")\n",
    "# axs[1].plot(x, accuracies, label=\"Random pruning\")\n",
    "\n",
    "# -- PLOTS --\n",
    "axs[0].set_xlabel(\"Pruned parameters (%)\")\n",
    "axs[0].set_ylabel(\"Loss\")\n",
    "axs[0].set_title(\"Loss evolution\")\n",
    "\n",
    "axs[1].set_xlabel(\"Pruned parameters (%)\")\n",
    "axs[1].set_ylabel(\"Accuracy (%)\")\n",
    "axs[1].set_title(\"Accuracy evolution\")\n",
    "\n",
    "plt.legend()\n",
    "plt.show()"
   ]
  }
 ],
 "metadata": {
  "kernelspec": {
   "display_name": "Python 3",
   "language": "python",
   "name": "python3"
  },
  "language_info": {
   "codemirror_mode": {
    "name": "ipython",
    "version": 3
   },
   "file_extension": ".py",
   "mimetype": "text/x-python",
   "name": "python",
   "nbconvert_exporter": "python",
   "pygments_lexer": "ipython3",
   "version": "3.11.7"
  }
 },
 "nbformat": 4,
 "nbformat_minor": 2
}
